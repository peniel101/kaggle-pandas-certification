{
 "cells": [
  {
   "cell_type": "markdown",
   "id": "3ff9e6cc",
   "metadata": {
    "papermill": {
     "duration": 0.017508,
     "end_time": "2022-04-08T18:43:02.919325",
     "exception": false,
     "start_time": "2022-04-08T18:43:02.901817",
     "status": "completed"
    },
    "tags": []
   },
   "source": [
    "**This notebook is an exercise in the [Pandas](https://www.kaggle.com/learn/pandas) course.  You can reference the tutorial at [this link](https://www.kaggle.com/residentmario/creating-reading-and-writing).**\n",
    "\n",
    "---\n"
   ]
  },
  {
   "cell_type": "markdown",
   "id": "63d21958",
   "metadata": {
    "papermill": {
     "duration": 0.01622,
     "end_time": "2022-04-08T18:43:02.955372",
     "exception": false,
     "start_time": "2022-04-08T18:43:02.939152",
     "status": "completed"
    },
    "tags": []
   },
   "source": [
    "# Introduction\n",
    "\n",
    "The first step in most data analytics projects is reading the data file. In this exercise, you'll create Series and DataFrame objects, both by hand and by reading data files.\n",
    "\n",
    "Run the code cell below to load libraries you will need (including code to check your answers)."
   ]
  },
  {
   "cell_type": "code",
   "execution_count": 1,
   "id": "4cad486f",
   "metadata": {
    "execution": {
     "iopub.execute_input": "2022-04-08T18:43:02.999508Z",
     "iopub.status.busy": "2022-04-08T18:43:02.997106Z",
     "iopub.status.idle": "2022-04-08T18:43:04.550596Z",
     "shell.execute_reply": "2022-04-08T18:43:04.549764Z",
     "shell.execute_reply.started": "2022-04-01T20:35:28.950865Z"
    },
    "papermill": {
     "duration": 1.578298,
     "end_time": "2022-04-08T18:43:04.551089",
     "exception": false,
     "start_time": "2022-04-08T18:43:02.972791",
     "status": "completed"
    },
    "tags": []
   },
   "outputs": [
    {
     "name": "stdout",
     "output_type": "stream",
     "text": [
      "Setup complete.\n"
     ]
    }
   ],
   "source": [
    "import pandas as pd\n",
    "pd.set_option('max_rows', 5)\n",
    "from learntools.core import binder; binder.bind(globals())\n",
    "from learntools.pandas.creating_reading_and_writing import *\n",
    "print(\"Setup complete.\")"
   ]
  },
  {
   "cell_type": "markdown",
   "id": "881d8fc5",
   "metadata": {
    "papermill": {
     "duration": 0.016491,
     "end_time": "2022-04-08T18:43:04.586440",
     "exception": false,
     "start_time": "2022-04-08T18:43:04.569949",
     "status": "completed"
    },
    "tags": []
   },
   "source": [
    "# Exercises"
   ]
  },
  {
   "cell_type": "markdown",
   "id": "9aecec2e",
   "metadata": {
    "papermill": {
     "duration": 0.016462,
     "end_time": "2022-04-08T18:43:04.620201",
     "exception": false,
     "start_time": "2022-04-08T18:43:04.603739",
     "status": "completed"
    },
    "tags": []
   },
   "source": [
    "## 1.\n",
    "\n",
    "In the cell below, create a DataFrame `fruits` that looks like this:\n",
    "\n",
    "![](https://i.imgur.com/Ax3pp2A.png)"
   ]
  },
  {
   "cell_type": "code",
   "execution_count": 2,
   "id": "3d229350",
   "metadata": {
    "execution": {
     "iopub.execute_input": "2022-04-08T18:43:04.657300Z",
     "iopub.status.busy": "2022-04-08T18:43:04.656343Z",
     "iopub.status.idle": "2022-04-08T18:43:04.677654Z",
     "shell.execute_reply": "2022-04-08T18:43:04.678141Z",
     "shell.execute_reply.started": "2022-04-01T20:35:37.169669Z"
    },
    "papermill": {
     "duration": 0.041486,
     "end_time": "2022-04-08T18:43:04.678306",
     "exception": false,
     "start_time": "2022-04-08T18:43:04.636820",
     "status": "completed"
    },
    "tags": []
   },
   "outputs": [
    {
     "data": {
      "application/javascript": [
       "parent.postMessage({\"jupyterEvent\": \"custom.exercise_interaction\", \"data\": {\"outcomeType\": 1, \"valueTowardsCompletion\": 0.16666666666666666, \"interactionType\": 1, \"questionType\": 1, \"questionId\": \"1_FruitDfCreation\", \"learnToolsVersion\": \"0.3.4\", \"failureMessage\": \"\", \"exceptionClass\": \"\", \"trace\": \"\"}}, \"*\")"
      ],
      "text/plain": [
       "<IPython.core.display.Javascript object>"
      ]
     },
     "metadata": {},
     "output_type": "display_data"
    },
    {
     "data": {
      "text/markdown": [
       "<span style=\"color:#33cc33\">Correct</span>"
      ],
      "text/plain": [
       "Correct"
      ]
     },
     "metadata": {},
     "output_type": "display_data"
    },
    {
     "data": {
      "text/html": [
       "<div>\n",
       "<style scoped>\n",
       "    .dataframe tbody tr th:only-of-type {\n",
       "        vertical-align: middle;\n",
       "    }\n",
       "\n",
       "    .dataframe tbody tr th {\n",
       "        vertical-align: top;\n",
       "    }\n",
       "\n",
       "    .dataframe thead th {\n",
       "        text-align: right;\n",
       "    }\n",
       "</style>\n",
       "<table border=\"1\" class=\"dataframe\">\n",
       "  <thead>\n",
       "    <tr style=\"text-align: right;\">\n",
       "      <th></th>\n",
       "      <th>Apples</th>\n",
       "      <th>Bananas</th>\n",
       "    </tr>\n",
       "  </thead>\n",
       "  <tbody>\n",
       "    <tr>\n",
       "      <th>0</th>\n",
       "      <td>30</td>\n",
       "      <td>21</td>\n",
       "    </tr>\n",
       "  </tbody>\n",
       "</table>\n",
       "</div>"
      ],
      "text/plain": [
       "   Apples  Bananas\n",
       "0      30       21"
      ]
     },
     "execution_count": 2,
     "metadata": {},
     "output_type": "execute_result"
    }
   ],
   "source": [
    "# Your code goes here. Create a dataframe matching the above diagram and assign it to the variable fruits.\n",
    "fruits = pd.DataFrame({\n",
    "    \"Apples\": 30,\n",
    "    \"Bananas\": 21\n",
    "}, index=[0])\n",
    "\n",
    "\n",
    "\n",
    "# Check your answer\n",
    "q1.check()\n",
    "fruits"
   ]
  },
  {
   "cell_type": "code",
   "execution_count": 3,
   "id": "7308da30",
   "metadata": {
    "execution": {
     "iopub.execute_input": "2022-04-08T18:43:04.718281Z",
     "iopub.status.busy": "2022-04-08T18:43:04.717340Z",
     "iopub.status.idle": "2022-04-08T18:43:04.720645Z",
     "shell.execute_reply": "2022-04-08T18:43:04.721175Z"
    },
    "papermill": {
     "duration": 0.025002,
     "end_time": "2022-04-08T18:43:04.721335",
     "exception": false,
     "start_time": "2022-04-08T18:43:04.696333",
     "status": "completed"
    },
    "tags": []
   },
   "outputs": [],
   "source": [
    "#q1.hint()\n",
    "#q1.solution()"
   ]
  },
  {
   "cell_type": "markdown",
   "id": "a7e1509e",
   "metadata": {
    "papermill": {
     "duration": 0.018147,
     "end_time": "2022-04-08T18:43:04.757448",
     "exception": false,
     "start_time": "2022-04-08T18:43:04.739301",
     "status": "completed"
    },
    "tags": []
   },
   "source": [
    "## 2.\n",
    "\n",
    "Create a dataframe `fruit_sales` that matches the diagram below:\n",
    "\n",
    "![](https://i.imgur.com/CHPn7ZF.png)"
   ]
  },
  {
   "cell_type": "code",
   "execution_count": 4,
   "id": "57260a9c",
   "metadata": {
    "execution": {
     "iopub.execute_input": "2022-04-08T18:43:04.801111Z",
     "iopub.status.busy": "2022-04-08T18:43:04.800151Z",
     "iopub.status.idle": "2022-04-08T18:43:04.810661Z",
     "shell.execute_reply": "2022-04-08T18:43:04.811193Z",
     "shell.execute_reply.started": "2022-04-01T20:36:40.48646Z"
    },
    "papermill": {
     "duration": 0.035845,
     "end_time": "2022-04-08T18:43:04.811365",
     "exception": false,
     "start_time": "2022-04-08T18:43:04.775520",
     "status": "completed"
    },
    "tags": []
   },
   "outputs": [
    {
     "data": {
      "application/javascript": [
       "parent.postMessage({\"jupyterEvent\": \"custom.exercise_interaction\", \"data\": {\"outcomeType\": 1, \"valueTowardsCompletion\": 0.16666666666666666, \"interactionType\": 1, \"questionType\": 1, \"questionId\": \"2_FruitSalesDfCreation\", \"learnToolsVersion\": \"0.3.4\", \"failureMessage\": \"\", \"exceptionClass\": \"\", \"trace\": \"\"}}, \"*\")"
      ],
      "text/plain": [
       "<IPython.core.display.Javascript object>"
      ]
     },
     "metadata": {},
     "output_type": "display_data"
    },
    {
     "data": {
      "text/markdown": [
       "<span style=\"color:#33cc33\">Correct</span>"
      ],
      "text/plain": [
       "Correct"
      ]
     },
     "metadata": {},
     "output_type": "display_data"
    },
    {
     "data": {
      "text/html": [
       "<div>\n",
       "<style scoped>\n",
       "    .dataframe tbody tr th:only-of-type {\n",
       "        vertical-align: middle;\n",
       "    }\n",
       "\n",
       "    .dataframe tbody tr th {\n",
       "        vertical-align: top;\n",
       "    }\n",
       "\n",
       "    .dataframe thead th {\n",
       "        text-align: right;\n",
       "    }\n",
       "</style>\n",
       "<table border=\"1\" class=\"dataframe\">\n",
       "  <thead>\n",
       "    <tr style=\"text-align: right;\">\n",
       "      <th></th>\n",
       "      <th>Apples</th>\n",
       "      <th>Bananas</th>\n",
       "    </tr>\n",
       "  </thead>\n",
       "  <tbody>\n",
       "    <tr>\n",
       "      <th>2017 Sales</th>\n",
       "      <td>35</td>\n",
       "      <td>21</td>\n",
       "    </tr>\n",
       "    <tr>\n",
       "      <th>2018 Sales</th>\n",
       "      <td>41</td>\n",
       "      <td>34</td>\n",
       "    </tr>\n",
       "  </tbody>\n",
       "</table>\n",
       "</div>"
      ],
      "text/plain": [
       "            Apples  Bananas\n",
       "2017 Sales      35       21\n",
       "2018 Sales      41       34"
      ]
     },
     "execution_count": 4,
     "metadata": {},
     "output_type": "execute_result"
    }
   ],
   "source": [
    "# Your code goes here. Create a dataframe matching the above diagram and assign it to the variable fruit_sales.\n",
    "fruit_sales = pd.DataFrame({\n",
    "    \"Apples\": [35,41],\n",
    "    \"Bananas\": [21,34]\n",
    "}, index = [\"2017 Sales\", \"2018 Sales\"])\n",
    "\n",
    "# Check your answer\n",
    "q2.check()\n",
    "fruit_sales"
   ]
  },
  {
   "cell_type": "code",
   "execution_count": 5,
   "id": "ead15e72",
   "metadata": {
    "execution": {
     "iopub.execute_input": "2022-04-08T18:43:04.853371Z",
     "iopub.status.busy": "2022-04-08T18:43:04.852458Z",
     "iopub.status.idle": "2022-04-08T18:43:04.855719Z",
     "shell.execute_reply": "2022-04-08T18:43:04.856128Z"
    },
    "papermill": {
     "duration": 0.025713,
     "end_time": "2022-04-08T18:43:04.856295",
     "exception": false,
     "start_time": "2022-04-08T18:43:04.830582",
     "status": "completed"
    },
    "tags": []
   },
   "outputs": [],
   "source": [
    "#q2.hint()\n",
    "#q2.solution()"
   ]
  },
  {
   "cell_type": "markdown",
   "id": "c4a8ed2b",
   "metadata": {
    "papermill": {
     "duration": 0.018931,
     "end_time": "2022-04-08T18:43:04.894455",
     "exception": false,
     "start_time": "2022-04-08T18:43:04.875524",
     "status": "completed"
    },
    "tags": []
   },
   "source": [
    "## 3.\n",
    "\n",
    "Create a variable `ingredients` with a Series that looks like:\n",
    "\n",
    "```\n",
    "Flour     4 cups\n",
    "Milk       1 cup\n",
    "Eggs     2 large\n",
    "Spam       1 can\n",
    "Name: Dinner, dtype: object\n",
    "```"
   ]
  },
  {
   "cell_type": "code",
   "execution_count": 6,
   "id": "a2b8906a",
   "metadata": {
    "execution": {
     "iopub.execute_input": "2022-04-08T18:43:04.939281Z",
     "iopub.status.busy": "2022-04-08T18:43:04.938350Z",
     "iopub.status.idle": "2022-04-08T18:43:04.950299Z",
     "shell.execute_reply": "2022-04-08T18:43:04.950901Z",
     "shell.execute_reply.started": "2022-04-01T20:48:24.599285Z"
    },
    "papermill": {
     "duration": 0.036678,
     "end_time": "2022-04-08T18:43:04.951080",
     "exception": false,
     "start_time": "2022-04-08T18:43:04.914402",
     "status": "completed"
    },
    "tags": []
   },
   "outputs": [
    {
     "data": {
      "application/javascript": [
       "parent.postMessage({\"jupyterEvent\": \"custom.exercise_interaction\", \"data\": {\"outcomeType\": 1, \"valueTowardsCompletion\": 0.16666666666666666, \"interactionType\": 1, \"questionType\": 2, \"questionId\": \"3_RecipeSeriesCreation\", \"learnToolsVersion\": \"0.3.4\", \"failureMessage\": \"\", \"exceptionClass\": \"\", \"trace\": \"\"}}, \"*\")"
      ],
      "text/plain": [
       "<IPython.core.display.Javascript object>"
      ]
     },
     "metadata": {},
     "output_type": "display_data"
    },
    {
     "data": {
      "text/markdown": [
       "<span style=\"color:#33cc33\">Correct</span>"
      ],
      "text/plain": [
       "Correct"
      ]
     },
     "metadata": {},
     "output_type": "display_data"
    },
    {
     "data": {
      "text/plain": [
       "Flour     4 cups\n",
       "Milk       1 cup\n",
       "Eggs     2 large\n",
       "Spam       1 can\n",
       "Name: Dinner, dtype: object"
      ]
     },
     "execution_count": 6,
     "metadata": {},
     "output_type": "execute_result"
    }
   ],
   "source": [
    "ingredients = pd.Series({\n",
    "    \"Flour\": \"4 cups\",\n",
    "    \"Milk\": \"1 cup\", \n",
    "    \"Eggs\": \"2 large\",\n",
    "    \"Spam\": \"1 can\",\n",
    "    \n",
    "}, name=\"Dinner\"\n",
    ")\n",
    "\n",
    "# Check your answer\n",
    "q3.check()\n",
    "ingredients"
   ]
  },
  {
   "cell_type": "code",
   "execution_count": null,
   "id": "1b5bdf3b",
   "metadata": {
    "papermill": {
     "duration": 0.020679,
     "end_time": "2022-04-08T18:43:04.993024",
     "exception": false,
     "start_time": "2022-04-08T18:43:04.972345",
     "status": "completed"
    },
    "tags": []
   },
   "outputs": [],
   "source": []
  },
  {
   "cell_type": "code",
   "execution_count": 7,
   "id": "e1bacc25",
   "metadata": {
    "execution": {
     "iopub.execute_input": "2022-04-08T18:43:05.042917Z",
     "iopub.status.busy": "2022-04-08T18:43:05.041274Z",
     "iopub.status.idle": "2022-04-08T18:43:05.045436Z",
     "shell.execute_reply": "2022-04-08T18:43:05.046291Z"
    },
    "papermill": {
     "duration": 0.032379,
     "end_time": "2022-04-08T18:43:05.046515",
     "exception": false,
     "start_time": "2022-04-08T18:43:05.014136",
     "status": "completed"
    },
    "tags": []
   },
   "outputs": [],
   "source": [
    "#q3.hint()\n",
    "#q3.solution()"
   ]
  },
  {
   "cell_type": "markdown",
   "id": "1996afe8",
   "metadata": {
    "papermill": {
     "duration": 0.023723,
     "end_time": "2022-04-08T18:43:05.106897",
     "exception": false,
     "start_time": "2022-04-08T18:43:05.083174",
     "status": "completed"
    },
    "tags": []
   },
   "source": [
    "## 4.\n",
    "\n",
    "Read the following csv dataset of wine reviews into a DataFrame called `reviews`:\n",
    "\n",
    "![](https://i.imgur.com/74RCZtU.png)\n",
    "\n",
    "The filepath to the csv file is `../input/wine-reviews/winemag-data_first150k.csv`. The first few lines look like:\n",
    "\n",
    "```\n",
    ",country,description,designation,points,price,province,region_1,region_2,variety,winery\n",
    "0,US,\"This tremendous 100% varietal wine[...]\",Martha's Vineyard,96,235.0,California,Napa Valley,Napa,Cabernet Sauvignon,Heitz\n",
    "1,Spain,\"Ripe aromas of fig, blackberry and[...]\",Carodorum Selección Especial Reserva,96,110.0,Northern Spain,Toro,,Tinta de Toro,Bodega Carmen Rodríguez\n",
    "```"
   ]
  },
  {
   "cell_type": "markdown",
   "id": "7828b825",
   "metadata": {
    "papermill": {
     "duration": 0.021172,
     "end_time": "2022-04-08T18:43:05.157468",
     "exception": false,
     "start_time": "2022-04-08T18:43:05.136296",
     "status": "completed"
    },
    "tags": []
   },
   "source": []
  },
  {
   "cell_type": "code",
   "execution_count": 8,
   "id": "a7b58312",
   "metadata": {
    "execution": {
     "iopub.execute_input": "2022-04-08T18:43:05.202536Z",
     "iopub.status.busy": "2022-04-08T18:43:05.201949Z",
     "iopub.status.idle": "2022-04-08T18:43:06.056367Z",
     "shell.execute_reply": "2022-04-08T18:43:06.056852Z",
     "shell.execute_reply.started": "2022-04-01T20:46:55.195243Z"
    },
    "papermill": {
     "duration": 0.878939,
     "end_time": "2022-04-08T18:43:06.057166",
     "exception": false,
     "start_time": "2022-04-08T18:43:05.178227",
     "status": "completed"
    },
    "tags": []
   },
   "outputs": [
    {
     "data": {
      "application/javascript": [
       "parent.postMessage({\"jupyterEvent\": \"custom.exercise_interaction\", \"data\": {\"outcomeType\": 1, \"valueTowardsCompletion\": 0.16666666666666666, \"interactionType\": 1, \"questionType\": 1, \"questionId\": \"4_ReadWineCsv\", \"learnToolsVersion\": \"0.3.4\", \"failureMessage\": \"\", \"exceptionClass\": \"\", \"trace\": \"\"}}, \"*\")"
      ],
      "text/plain": [
       "<IPython.core.display.Javascript object>"
      ]
     },
     "metadata": {},
     "output_type": "display_data"
    },
    {
     "data": {
      "text/markdown": [
       "<span style=\"color:#33cc33\">Correct</span>"
      ],
      "text/plain": [
       "Correct"
      ]
     },
     "metadata": {},
     "output_type": "display_data"
    },
    {
     "data": {
      "text/html": [
       "<div>\n",
       "<style scoped>\n",
       "    .dataframe tbody tr th:only-of-type {\n",
       "        vertical-align: middle;\n",
       "    }\n",
       "\n",
       "    .dataframe tbody tr th {\n",
       "        vertical-align: top;\n",
       "    }\n",
       "\n",
       "    .dataframe thead th {\n",
       "        text-align: right;\n",
       "    }\n",
       "</style>\n",
       "<table border=\"1\" class=\"dataframe\">\n",
       "  <thead>\n",
       "    <tr style=\"text-align: right;\">\n",
       "      <th></th>\n",
       "      <th>country</th>\n",
       "      <th>description</th>\n",
       "      <th>designation</th>\n",
       "      <th>points</th>\n",
       "      <th>price</th>\n",
       "      <th>province</th>\n",
       "      <th>region_1</th>\n",
       "      <th>region_2</th>\n",
       "      <th>variety</th>\n",
       "      <th>winery</th>\n",
       "    </tr>\n",
       "  </thead>\n",
       "  <tbody>\n",
       "    <tr>\n",
       "      <th>0</th>\n",
       "      <td>US</td>\n",
       "      <td>This tremendous 100% varietal wine hails from ...</td>\n",
       "      <td>Martha's Vineyard</td>\n",
       "      <td>96</td>\n",
       "      <td>235.0</td>\n",
       "      <td>California</td>\n",
       "      <td>Napa Valley</td>\n",
       "      <td>Napa</td>\n",
       "      <td>Cabernet Sauvignon</td>\n",
       "      <td>Heitz</td>\n",
       "    </tr>\n",
       "    <tr>\n",
       "      <th>1</th>\n",
       "      <td>Spain</td>\n",
       "      <td>Ripe aromas of fig, blackberry and cassis are ...</td>\n",
       "      <td>Carodorum Selección Especial Reserva</td>\n",
       "      <td>96</td>\n",
       "      <td>110.0</td>\n",
       "      <td>Northern Spain</td>\n",
       "      <td>Toro</td>\n",
       "      <td>NaN</td>\n",
       "      <td>Tinta de Toro</td>\n",
       "      <td>Bodega Carmen Rodríguez</td>\n",
       "    </tr>\n",
       "    <tr>\n",
       "      <th>...</th>\n",
       "      <td>...</td>\n",
       "      <td>...</td>\n",
       "      <td>...</td>\n",
       "      <td>...</td>\n",
       "      <td>...</td>\n",
       "      <td>...</td>\n",
       "      <td>...</td>\n",
       "      <td>...</td>\n",
       "      <td>...</td>\n",
       "      <td>...</td>\n",
       "    </tr>\n",
       "    <tr>\n",
       "      <th>150928</th>\n",
       "      <td>France</td>\n",
       "      <td>A perfect salmon shade, with scents of peaches...</td>\n",
       "      <td>Grand Brut Rosé</td>\n",
       "      <td>90</td>\n",
       "      <td>52.0</td>\n",
       "      <td>Champagne</td>\n",
       "      <td>Champagne</td>\n",
       "      <td>NaN</td>\n",
       "      <td>Champagne Blend</td>\n",
       "      <td>Gosset</td>\n",
       "    </tr>\n",
       "    <tr>\n",
       "      <th>150929</th>\n",
       "      <td>Italy</td>\n",
       "      <td>More Pinot Grigios should taste like this. A r...</td>\n",
       "      <td>NaN</td>\n",
       "      <td>90</td>\n",
       "      <td>15.0</td>\n",
       "      <td>Northeastern Italy</td>\n",
       "      <td>Alto Adige</td>\n",
       "      <td>NaN</td>\n",
       "      <td>Pinot Grigio</td>\n",
       "      <td>Alois Lageder</td>\n",
       "    </tr>\n",
       "  </tbody>\n",
       "</table>\n",
       "<p>150930 rows × 10 columns</p>\n",
       "</div>"
      ],
      "text/plain": [
       "       country                                        description  \\\n",
       "0           US  This tremendous 100% varietal wine hails from ...   \n",
       "1        Spain  Ripe aromas of fig, blackberry and cassis are ...   \n",
       "...        ...                                                ...   \n",
       "150928  France  A perfect salmon shade, with scents of peaches...   \n",
       "150929   Italy  More Pinot Grigios should taste like this. A r...   \n",
       "\n",
       "                                 designation  points  price  \\\n",
       "0                          Martha's Vineyard      96  235.0   \n",
       "1       Carodorum Selección Especial Reserva      96  110.0   \n",
       "...                                      ...     ...    ...   \n",
       "150928                       Grand Brut Rosé      90   52.0   \n",
       "150929                                   NaN      90   15.0   \n",
       "\n",
       "                  province     region_1 region_2             variety  \\\n",
       "0               California  Napa Valley     Napa  Cabernet Sauvignon   \n",
       "1           Northern Spain         Toro      NaN       Tinta de Toro   \n",
       "...                    ...          ...      ...                 ...   \n",
       "150928           Champagne    Champagne      NaN     Champagne Blend   \n",
       "150929  Northeastern Italy   Alto Adige      NaN        Pinot Grigio   \n",
       "\n",
       "                         winery  \n",
       "0                         Heitz  \n",
       "1       Bodega Carmen Rodríguez  \n",
       "...                         ...  \n",
       "150928                   Gosset  \n",
       "150929            Alois Lageder  \n",
       "\n",
       "[150930 rows x 10 columns]"
      ]
     },
     "execution_count": 8,
     "metadata": {},
     "output_type": "execute_result"
    }
   ],
   "source": [
    "path = \"../input/wine-reviews/winemag-data_first150k.csv\"\n",
    "reviews = pd.read_csv(\"../input/wine-reviews/winemag-data_first150k.csv\", index_col=0)\n",
    "\n",
    "# Check your answer\n",
    "q4.check()\n",
    "reviews"
   ]
  },
  {
   "cell_type": "code",
   "execution_count": 9,
   "id": "8f95e900",
   "metadata": {
    "execution": {
     "iopub.execute_input": "2022-04-08T18:43:06.106721Z",
     "iopub.status.busy": "2022-04-08T18:43:06.106106Z",
     "iopub.status.idle": "2022-04-08T18:43:06.108831Z",
     "shell.execute_reply": "2022-04-08T18:43:06.109292Z"
    },
    "papermill": {
     "duration": 0.028686,
     "end_time": "2022-04-08T18:43:06.109451",
     "exception": false,
     "start_time": "2022-04-08T18:43:06.080765",
     "status": "completed"
    },
    "tags": []
   },
   "outputs": [],
   "source": [
    "#q4.hint()\n",
    "#q4.solution()"
   ]
  },
  {
   "cell_type": "markdown",
   "id": "172da8fe",
   "metadata": {
    "papermill": {
     "duration": 0.022066,
     "end_time": "2022-04-08T18:43:06.154697",
     "exception": false,
     "start_time": "2022-04-08T18:43:06.132631",
     "status": "completed"
    },
    "tags": []
   },
   "source": [
    "## 5.\n",
    "\n",
    "Run the cell below to create and display a DataFrame called `animals`:"
   ]
  },
  {
   "cell_type": "code",
   "execution_count": 10,
   "id": "b082b90c",
   "metadata": {
    "execution": {
     "iopub.execute_input": "2022-04-08T18:43:06.204279Z",
     "iopub.status.busy": "2022-04-08T18:43:06.203707Z",
     "iopub.status.idle": "2022-04-08T18:43:06.211611Z",
     "shell.execute_reply": "2022-04-08T18:43:06.212097Z",
     "shell.execute_reply.started": "2022-04-01T09:54:04.139668Z"
    },
    "papermill": {
     "duration": 0.03407,
     "end_time": "2022-04-08T18:43:06.212274",
     "exception": false,
     "start_time": "2022-04-08T18:43:06.178204",
     "status": "completed"
    },
    "tags": []
   },
   "outputs": [
    {
     "data": {
      "text/html": [
       "<div>\n",
       "<style scoped>\n",
       "    .dataframe tbody tr th:only-of-type {\n",
       "        vertical-align: middle;\n",
       "    }\n",
       "\n",
       "    .dataframe tbody tr th {\n",
       "        vertical-align: top;\n",
       "    }\n",
       "\n",
       "    .dataframe thead th {\n",
       "        text-align: right;\n",
       "    }\n",
       "</style>\n",
       "<table border=\"1\" class=\"dataframe\">\n",
       "  <thead>\n",
       "    <tr style=\"text-align: right;\">\n",
       "      <th></th>\n",
       "      <th>Cows</th>\n",
       "      <th>Goats</th>\n",
       "    </tr>\n",
       "  </thead>\n",
       "  <tbody>\n",
       "    <tr>\n",
       "      <th>Year 1</th>\n",
       "      <td>12</td>\n",
       "      <td>22</td>\n",
       "    </tr>\n",
       "    <tr>\n",
       "      <th>Year 2</th>\n",
       "      <td>20</td>\n",
       "      <td>19</td>\n",
       "    </tr>\n",
       "  </tbody>\n",
       "</table>\n",
       "</div>"
      ],
      "text/plain": [
       "        Cows  Goats\n",
       "Year 1    12     22\n",
       "Year 2    20     19"
      ]
     },
     "execution_count": 10,
     "metadata": {},
     "output_type": "execute_result"
    }
   ],
   "source": [
    "animals = pd.DataFrame({'Cows': [12, 20], 'Goats': [22, 19]}, index=['Year 1', 'Year 2'])\n",
    "animals"
   ]
  },
  {
   "cell_type": "markdown",
   "id": "bf3ed211",
   "metadata": {
    "papermill": {
     "duration": 0.025601,
     "end_time": "2022-04-08T18:43:06.264726",
     "exception": false,
     "start_time": "2022-04-08T18:43:06.239125",
     "status": "completed"
    },
    "tags": []
   },
   "source": [
    "df.to_csv()In the cell below, write code to save this DataFrame to disk as a csv file with the name `cows_and_goats.csv`."
   ]
  },
  {
   "cell_type": "code",
   "execution_count": 11,
   "id": "9d5971a1",
   "metadata": {
    "execution": {
     "iopub.execute_input": "2022-04-08T18:43:06.316499Z",
     "iopub.status.busy": "2022-04-08T18:43:06.315904Z",
     "iopub.status.idle": "2022-04-08T18:43:06.328376Z",
     "shell.execute_reply": "2022-04-08T18:43:06.328990Z",
     "shell.execute_reply.started": "2022-04-01T09:55:02.720058Z"
    },
    "papermill": {
     "duration": 0.039325,
     "end_time": "2022-04-08T18:43:06.329163",
     "exception": false,
     "start_time": "2022-04-08T18:43:06.289838",
     "status": "completed"
    },
    "tags": []
   },
   "outputs": [
    {
     "data": {
      "application/javascript": [
       "parent.postMessage({\"jupyterEvent\": \"custom.exercise_interaction\", \"data\": {\"outcomeType\": 1, \"valueTowardsCompletion\": 0.16666666666666666, \"interactionType\": 1, \"questionType\": 2, \"questionId\": \"5_SaveAnimalsCsv\", \"learnToolsVersion\": \"0.3.4\", \"failureMessage\": \"\", \"exceptionClass\": \"\", \"trace\": \"\"}}, \"*\")"
      ],
      "text/plain": [
       "<IPython.core.display.Javascript object>"
      ]
     },
     "metadata": {},
     "output_type": "display_data"
    },
    {
     "data": {
      "text/markdown": [
       "<span style=\"color:#33cc33\">Correct</span>"
      ],
      "text/plain": [
       "Correct"
      ]
     },
     "metadata": {},
     "output_type": "display_data"
    }
   ],
   "source": [
    "# Your code goes here\n",
    "file = \"cows_and_goats.csv\"\n",
    "animals.to_csv(file)\n",
    "# Check your answer\n",
    "q5.check()\n"
   ]
  },
  {
   "cell_type": "code",
   "execution_count": 12,
   "id": "a4f9463d",
   "metadata": {
    "execution": {
     "iopub.execute_input": "2022-04-08T18:43:06.380464Z",
     "iopub.status.busy": "2022-04-08T18:43:06.379532Z",
     "iopub.status.idle": "2022-04-08T18:43:06.382387Z",
     "shell.execute_reply": "2022-04-08T18:43:06.382830Z"
    },
    "papermill": {
     "duration": 0.029966,
     "end_time": "2022-04-08T18:43:06.382990",
     "exception": false,
     "start_time": "2022-04-08T18:43:06.353024",
     "status": "completed"
    },
    "tags": []
   },
   "outputs": [],
   "source": [
    "#q5.hint()\n",
    "#q5.solution()"
   ]
  },
  {
   "cell_type": "code",
   "execution_count": 13,
   "id": "b3596013",
   "metadata": {
    "execution": {
     "iopub.execute_input": "2022-04-08T18:43:06.437783Z",
     "iopub.status.busy": "2022-04-08T18:43:06.436848Z",
     "iopub.status.idle": "2022-04-08T18:43:06.440460Z",
     "shell.execute_reply": "2022-04-08T18:43:06.439832Z"
    },
    "papermill": {
     "duration": 0.033116,
     "end_time": "2022-04-08T18:43:06.440770",
     "exception": true,
     "start_time": "2022-04-08T18:43:06.407654",
     "status": "failed"
    },
    "tags": []
   },
   "outputs": [
    {
     "ename": "SyntaxError",
     "evalue": "invalid syntax (920421207.py, line 3)",
     "output_type": "error",
     "traceback": [
      "\u001b[0;36m  File \u001b[0;32m\"/tmp/ipykernel_19/920421207.py\"\u001b[0;36m, line \u001b[0;32m3\u001b[0m\n\u001b[0;31m    Move on to learn about **[indexing, selecting and assigning](https://www.kaggle.com/residentmario/indexing-selecting-assigning)**.\u001b[0m\n\u001b[0m          ^\u001b[0m\n\u001b[0;31mSyntaxError\u001b[0m\u001b[0;31m:\u001b[0m invalid syntax\n"
     ]
    }
   ],
   "source": [
    "# Keep going\n",
    "\n",
    "Move on to learn about **[indexing, selecting and assigning](https://www.kaggle.com/residentmario/indexing-selecting-assigning)**."
   ]
  },
  {
   "cell_type": "code",
   "execution_count": null,
   "id": "fc4e58e5",
   "metadata": {
    "papermill": {
     "duration": null,
     "end_time": null,
     "exception": null,
     "start_time": null,
     "status": "pending"
    },
    "tags": []
   },
   "outputs": [],
   "source": []
  },
  {
   "cell_type": "markdown",
   "id": "370cae92",
   "metadata": {
    "papermill": {
     "duration": null,
     "end_time": null,
     "exception": null,
     "start_time": null,
     "status": "pending"
    },
    "tags": []
   },
   "source": []
  },
  {
   "cell_type": "markdown",
   "id": "e62773e0",
   "metadata": {
    "papermill": {
     "duration": null,
     "end_time": null,
     "exception": null,
     "start_time": null,
     "status": "pending"
    },
    "tags": []
   },
   "source": []
  },
  {
   "cell_type": "markdown",
   "id": "18b32676",
   "metadata": {
    "papermill": {
     "duration": null,
     "end_time": null,
     "exception": null,
     "start_time": null,
     "status": "pending"
    },
    "tags": []
   },
   "source": [
    "---\n",
    "\n",
    "\n",
    "\n",
    "\n",
    "*Have questions or comments? Visit the [course discussion forum](https://www.kaggle.com/learn/pandas/discussion) to chat with other learners.*"
   ]
  }
 ],
 "metadata": {
  "kernelspec": {
   "display_name": "Python 3",
   "language": "python",
   "name": "python3"
  },
  "language_info": {
   "codemirror_mode": {
    "name": "ipython",
    "version": 3
   },
   "file_extension": ".py",
   "mimetype": "text/x-python",
   "name": "python",
   "nbconvert_exporter": "python",
   "pygments_lexer": "ipython3",
   "version": "3.7.12"
  },
  "papermill": {
   "default_parameters": {},
   "duration": 12.588868,
   "end_time": "2022-04-08T18:43:07.075841",
   "environment_variables": {},
   "exception": true,
   "input_path": "__notebook__.ipynb",
   "output_path": "__notebook__.ipynb",
   "parameters": {},
   "start_time": "2022-04-08T18:42:54.486973",
   "version": "2.3.3"
  }
 },
 "nbformat": 4,
 "nbformat_minor": 5
}
